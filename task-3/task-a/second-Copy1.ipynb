{
 "cells": [
  {
   "cell_type": "code",
   "execution_count": 8,
   "metadata": {},
   "outputs": [],
   "source": [
    "import tabula\n",
    "import pandas\n",
    "import pymongo"
   ]
  },
  {
   "cell_type": "code",
   "execution_count": 9,
   "metadata": {},
   "outputs": [],
   "source": [
    "filepath= \"./Rec_Task/a6b29367-f3b7-4fb1-a2d0-077477eac1d9.pdf\""
   ]
  },
  {
   "cell_type": "code",
   "execution_count": 10,
   "metadata": {},
   "outputs": [],
   "source": [
    "tables =  tabula.read_pdf(filepath, pages=\"all\")"
   ]
  },
  {
   "cell_type": "code",
   "execution_count": 11,
   "metadata": {},
   "outputs": [],
   "source": [
    "def is_not_nan(val):\n",
    "    return val == val\n",
    "\n",
    "def concat_rows(tbl, common_col):\n",
    "    tmp_df = pandas.DataFrame(columns=tbl.columns)\n",
    "    ind = -1\n",
    "    for index, row in tbl.iterrows():\n",
    "        if(is_not_nan(row[common_col])):\n",
    "            ind+=1\n",
    "            tmp_df.loc[ind]=['']*len(tbl.columns)\n",
    "        for col in tbl.columns:\n",
    "            tmp_df.loc[ind][col]+=\" \"+str(row[col] if is_not_nan(row[col]) else \"\")\n",
    "            tmp_df.loc[ind][col]=tmp_df.loc[ind][col].strip()\n",
    "    return tmp_df\n",
    "\n",
    "def merge_col_row(tbl, last_row):\n",
    "    col = [str(i if is_not_nan(i) and i.find(\"Unnamed:\") == -1 else \"\") for i in tbl.columns.to_list()]\n",
    "    for row_ind in range(last_row+1):\n",
    "        for col_ind in range(len(col)):\n",
    "            row_item = tbl.loc[row_ind][col_ind]\n",
    "            col[col_ind] += \" \" if len(col[col_ind]) > 0 and col[col_ind][-1]!=\"/\" and col[col_ind][-1]!=\"(\" else \"\"\n",
    "            col[col_ind] += str(row_item) if is_not_nan(row_item) else \"\"\n",
    "            col[col_ind] = col[col_ind].strip()\n",
    "    \n",
    "    tbl.columns = col\n",
    "    tbl = tbl.iloc[last_row+1:].reset_index(drop=True)\n",
    "    return tbl\n",
    "\n",
    "def fill_blank_cell(tbl, column_name):\n",
    "    for index, row in tbl.iterrows():\n",
    "        if tbl.loc[index][column_name] == \"\":\n",
    "            if index != 0:\n",
    "                tbl.loc[index][column_name] = tbl.loc[index-1][column_name]\n",
    "            else:\n",
    "                tbl.loc[index][column_name] = \"-\"\n",
    "    return tbl"
   ]
  },
  {
   "cell_type": "code",
   "execution_count": 12,
   "metadata": {},
   "outputs": [
    {
     "name": "stdout",
     "output_type": "stream",
     "text": [
      "1\n"
     ]
    }
   ],
   "source": [
    "print(len(tables))"
   ]
  },
  {
   "cell_type": "code",
   "execution_count": 13,
   "metadata": {},
   "outputs": [
    {
     "data": {
      "text/html": [
       "<div>\n",
       "<style scoped>\n",
       "    .dataframe tbody tr th:only-of-type {\n",
       "        vertical-align: middle;\n",
       "    }\n",
       "\n",
       "    .dataframe tbody tr th {\n",
       "        vertical-align: top;\n",
       "    }\n",
       "\n",
       "    .dataframe thead th {\n",
       "        text-align: right;\n",
       "    }\n",
       "</style>\n",
       "<table border=\"1\" class=\"dataframe\">\n",
       "  <thead>\n",
       "    <tr style=\"text-align: right;\">\n",
       "      <th></th>\n",
       "      <th>Day&amp; Date</th>\n",
       "      <th>Name ofOrganisation</th>\n",
       "      <th>Type ofMeeting</th>\n",
       "    </tr>\n",
       "  </thead>\n",
       "  <tbody>\n",
       "    <tr>\n",
       "      <th>0</th>\n",
       "      <td>Friday.</td>\n",
       "      <td>HDFCSecurities Limited</td>\n",
       "      <td>One-on-one Call</td>\n",
       "    </tr>\n",
       "    <tr>\n",
       "      <th>1</th>\n",
       "      <td>April 06, 2018</td>\n",
       "      <td>NaN</td>\n",
       "      <td>NaN</td>\n",
       "    </tr>\n",
       "  </tbody>\n",
       "</table>\n",
       "</div>"
      ],
      "text/plain": [
       "        Day& Date     Name ofOrganisation   Type ofMeeting\n",
       "0         Friday.  HDFCSecurities Limited  One-on-one Call\n",
       "1  April 06, 2018                     NaN              NaN"
      ]
     },
     "execution_count": 13,
     "metadata": {},
     "output_type": "execute_result"
    }
   ],
   "source": [
    "t1 = tables[0]\n",
    "t1"
   ]
  },
  {
   "cell_type": "code",
   "execution_count": 14,
   "metadata": {},
   "outputs": [],
   "source": [
    "# merge rows based on a particular column\n",
    "t1 = concat_rows(t1, 'Type ofMeeting')"
   ]
  },
  {
   "cell_type": "code",
   "execution_count": 15,
   "metadata": {},
   "outputs": [
    {
     "data": {
      "text/html": [
       "<div>\n",
       "<style scoped>\n",
       "    .dataframe tbody tr th:only-of-type {\n",
       "        vertical-align: middle;\n",
       "    }\n",
       "\n",
       "    .dataframe tbody tr th {\n",
       "        vertical-align: top;\n",
       "    }\n",
       "\n",
       "    .dataframe thead th {\n",
       "        text-align: right;\n",
       "    }\n",
       "</style>\n",
       "<table border=\"1\" class=\"dataframe\">\n",
       "  <thead>\n",
       "    <tr style=\"text-align: right;\">\n",
       "      <th></th>\n",
       "      <th>Day&amp; Date</th>\n",
       "      <th>Name ofOrganisation</th>\n",
       "      <th>Type ofMeeting</th>\n",
       "    </tr>\n",
       "  </thead>\n",
       "  <tbody>\n",
       "    <tr>\n",
       "      <th>0</th>\n",
       "      <td>Friday. April 06, 2018</td>\n",
       "      <td>HDFCSecurities Limited</td>\n",
       "      <td>One-on-one Call</td>\n",
       "    </tr>\n",
       "  </tbody>\n",
       "</table>\n",
       "</div>"
      ],
      "text/plain": [
       "                Day& Date     Name ofOrganisation   Type ofMeeting\n",
       "0  Friday. April 06, 2018  HDFCSecurities Limited  One-on-one Call"
      ]
     },
     "execution_count": 15,
     "metadata": {},
     "output_type": "execute_result"
    }
   ],
   "source": [
    "t1"
   ]
  },
  {
   "cell_type": "code",
   "execution_count": null,
   "metadata": {},
   "outputs": [],
   "source": []
  }
 ],
 "metadata": {
  "kernelspec": {
   "display_name": "Python 3",
   "language": "python",
   "name": "python3"
  },
  "language_info": {
   "codemirror_mode": {
    "name": "ipython",
    "version": 3
   },
   "file_extension": ".py",
   "mimetype": "text/x-python",
   "name": "python",
   "nbconvert_exporter": "python",
   "pygments_lexer": "ipython3",
   "version": "3.8.5"
  }
 },
 "nbformat": 4,
 "nbformat_minor": 4
}
