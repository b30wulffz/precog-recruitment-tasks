{
 "cells": [
  {
   "cell_type": "code",
   "execution_count": 70,
   "metadata": {},
   "outputs": [],
   "source": [
    "import tabula\n",
    "import pandas"
   ]
  },
  {
   "cell_type": "code",
   "execution_count": 71,
   "metadata": {},
   "outputs": [],
   "source": [
    "filepath = \"./Rec_Task/d9f8e6d9-660b-4505-86f9-952e45ca6da0.pdf\""
   ]
  },
  {
   "cell_type": "code",
   "execution_count": 72,
   "metadata": {
    "scrolled": true
   },
   "outputs": [],
   "source": [
    "tables =  tabula.read_pdf(filepath, pages=\"1\", area=(338.21617916107175, 55.43917568206787, 444.62963047027586, 527.2302814865112))"
   ]
  },
  {
   "cell_type": "code",
   "execution_count": 73,
   "metadata": {},
   "outputs": [],
   "source": [
    "def is_not_nan(val):\n",
    "    return val == val\n",
    "\n",
    "def concat_rows(tbl, common_col):\n",
    "    tmp_df = pandas.DataFrame(columns=tbl.columns)\n",
    "    ind = -1\n",
    "    for index, row in tbl.iterrows():\n",
    "        if(is_not_nan(row[common_col])):\n",
    "            ind+=1\n",
    "            tmp_df.loc[ind]=['']*len(tbl.columns)\n",
    "        for col in tbl.columns:\n",
    "            tmp_df.loc[ind][col]+=\" \"+str(row[col] if is_not_nan(row[col]) else \"\")\n",
    "            tmp_df.loc[ind][col]=tmp_df.loc[ind][col].strip()\n",
    "    return tmp_df\n",
    "\n",
    "def merge_col_row(tbl, last_row):\n",
    "    col = [str(i if is_not_nan(i) and i.find(\"Unnamed:\") == -1 else \"\") for i in tbl.columns.to_list()]\n",
    "    for row_ind in range(last_row+1):\n",
    "        for col_ind in range(len(col)):\n",
    "            row_item = tbl.loc[row_ind][col_ind]\n",
    "            col[col_ind] += \" \" if len(col[col_ind]) > 0 and col[col_ind][-1]!=\"/\" and col[col_ind][-1]!=\"(\" else \"\"\n",
    "            col[col_ind] += str(row_item) if is_not_nan(row_item) else \"\"\n",
    "            col[col_ind] = col[col_ind].strip()\n",
    "    \n",
    "    tbl.columns = col\n",
    "    tbl = tbl.iloc[last_row+1:].reset_index(drop=True)\n",
    "    return tbl\n",
    "\n",
    "def fill_blank_cell(tbl, column_name):\n",
    "    for index, row in tbl.iterrows():\n",
    "        if tbl.loc[index][column_name] == \"\":\n",
    "            if index != 0:\n",
    "                tbl.loc[index][column_name] = tbl.loc[index-1][column_name]\n",
    "            else:\n",
    "                tbl.loc[index][column_name] = \"-\"\n",
    "    return tbl"
   ]
  },
  {
   "cell_type": "code",
   "execution_count": 74,
   "metadata": {},
   "outputs": [
    {
     "name": "stdout",
     "output_type": "stream",
     "text": [
      "1\n"
     ]
    }
   ],
   "source": [
    "print(len(tables))"
   ]
  },
  {
   "cell_type": "code",
   "execution_count": 75,
   "metadata": {},
   "outputs": [
    {
     "data": {
      "text/plain": [
       "[            Date          Name of the analyst/investor        Type Location\n",
       " 0  April 4, 2018        Motilal Oswal Asset Management  One-on-One   Mumbai\n",
       " 1            NaN                       Company Limited     meeting      NaN\n",
       " 2            NaN                         Credit Suisse  Voice call        -\n",
       " 3            NaN                                     I         NaN      NaN\n",
       " 4  April 5, 2018  Maybank Eng Securities India Private  One-on-One   Mumbai\n",
       " 5            NaN                               Limited     meeting      NaN]"
      ]
     },
     "execution_count": 75,
     "metadata": {},
     "output_type": "execute_result"
    }
   ],
   "source": [
    "tables"
   ]
  },
  {
   "cell_type": "code",
   "execution_count": 76,
   "metadata": {},
   "outputs": [
    {
     "data": {
      "text/html": [
       "<div>\n",
       "<style scoped>\n",
       "    .dataframe tbody tr th:only-of-type {\n",
       "        vertical-align: middle;\n",
       "    }\n",
       "\n",
       "    .dataframe tbody tr th {\n",
       "        vertical-align: top;\n",
       "    }\n",
       "\n",
       "    .dataframe thead th {\n",
       "        text-align: right;\n",
       "    }\n",
       "</style>\n",
       "<table border=\"1\" class=\"dataframe\">\n",
       "  <thead>\n",
       "    <tr style=\"text-align: right;\">\n",
       "      <th></th>\n",
       "      <th>Date</th>\n",
       "      <th>Name of the analyst/investor</th>\n",
       "      <th>Type</th>\n",
       "      <th>Location</th>\n",
       "    </tr>\n",
       "  </thead>\n",
       "  <tbody>\n",
       "    <tr>\n",
       "      <th>0</th>\n",
       "      <td>April 4, 2018</td>\n",
       "      <td>Motilal Oswal Asset Management</td>\n",
       "      <td>One-on-One</td>\n",
       "      <td>Mumbai</td>\n",
       "    </tr>\n",
       "    <tr>\n",
       "      <th>1</th>\n",
       "      <td>NaN</td>\n",
       "      <td>Company Limited</td>\n",
       "      <td>meeting</td>\n",
       "      <td>NaN</td>\n",
       "    </tr>\n",
       "    <tr>\n",
       "      <th>2</th>\n",
       "      <td>NaN</td>\n",
       "      <td>Credit Suisse</td>\n",
       "      <td>Voice call</td>\n",
       "      <td>-</td>\n",
       "    </tr>\n",
       "    <tr>\n",
       "      <th>3</th>\n",
       "      <td>NaN</td>\n",
       "      <td>I</td>\n",
       "      <td>NaN</td>\n",
       "      <td>NaN</td>\n",
       "    </tr>\n",
       "    <tr>\n",
       "      <th>4</th>\n",
       "      <td>April 5, 2018</td>\n",
       "      <td>Maybank Eng Securities India Private</td>\n",
       "      <td>One-on-One</td>\n",
       "      <td>Mumbai</td>\n",
       "    </tr>\n",
       "    <tr>\n",
       "      <th>5</th>\n",
       "      <td>NaN</td>\n",
       "      <td>Limited</td>\n",
       "      <td>meeting</td>\n",
       "      <td>NaN</td>\n",
       "    </tr>\n",
       "  </tbody>\n",
       "</table>\n",
       "</div>"
      ],
      "text/plain": [
       "            Date          Name of the analyst/investor        Type Location\n",
       "0  April 4, 2018        Motilal Oswal Asset Management  One-on-One   Mumbai\n",
       "1            NaN                       Company Limited     meeting      NaN\n",
       "2            NaN                         Credit Suisse  Voice call        -\n",
       "3            NaN                                     I         NaN      NaN\n",
       "4  April 5, 2018  Maybank Eng Securities India Private  One-on-One   Mumbai\n",
       "5            NaN                               Limited     meeting      NaN"
      ]
     },
     "execution_count": 76,
     "metadata": {},
     "output_type": "execute_result"
    }
   ],
   "source": [
    "t1 = tables[0]\n",
    "t1"
   ]
  },
  {
   "cell_type": "code",
   "execution_count": 77,
   "metadata": {},
   "outputs": [],
   "source": [
    "# merge rows based on a particular column\n",
    "t1 = concat_rows(t1, 'Location')"
   ]
  },
  {
   "cell_type": "code",
   "execution_count": 81,
   "metadata": {},
   "outputs": [],
   "source": [
    "# populating empty cells from above cells\n",
    "t1 = fill_blank_cell(t1, 'Date')\n",
    "\n",
    "# manually cleaning data \n",
    "t1.loc[1][1] = t1.loc[1][1][0:-2]"
   ]
  },
  {
   "cell_type": "code",
   "execution_count": 82,
   "metadata": {},
   "outputs": [
    {
     "data": {
      "text/html": [
       "<div>\n",
       "<style scoped>\n",
       "    .dataframe tbody tr th:only-of-type {\n",
       "        vertical-align: middle;\n",
       "    }\n",
       "\n",
       "    .dataframe tbody tr th {\n",
       "        vertical-align: top;\n",
       "    }\n",
       "\n",
       "    .dataframe thead th {\n",
       "        text-align: right;\n",
       "    }\n",
       "</style>\n",
       "<table border=\"1\" class=\"dataframe\">\n",
       "  <thead>\n",
       "    <tr style=\"text-align: right;\">\n",
       "      <th></th>\n",
       "      <th>Date</th>\n",
       "      <th>Name of the analyst/investor</th>\n",
       "      <th>Type</th>\n",
       "      <th>Location</th>\n",
       "    </tr>\n",
       "  </thead>\n",
       "  <tbody>\n",
       "    <tr>\n",
       "      <th>0</th>\n",
       "      <td>April 4, 2018</td>\n",
       "      <td>Motilal Oswal Asset Management Company Limited</td>\n",
       "      <td>One-on-One meeting</td>\n",
       "      <td>Mumbai</td>\n",
       "    </tr>\n",
       "    <tr>\n",
       "      <th>1</th>\n",
       "      <td>April 4, 2018</td>\n",
       "      <td>Credit Su</td>\n",
       "      <td>Voice call</td>\n",
       "      <td>-</td>\n",
       "    </tr>\n",
       "    <tr>\n",
       "      <th>2</th>\n",
       "      <td>April 5, 2018</td>\n",
       "      <td>Maybank Eng Securities India Private Limited</td>\n",
       "      <td>One-on-One meeting</td>\n",
       "      <td>Mumbai</td>\n",
       "    </tr>\n",
       "  </tbody>\n",
       "</table>\n",
       "</div>"
      ],
      "text/plain": [
       "            Date                    Name of the analyst/investor  \\\n",
       "0  April 4, 2018  Motilal Oswal Asset Management Company Limited   \n",
       "1  April 4, 2018                                       Credit Su   \n",
       "2  April 5, 2018    Maybank Eng Securities India Private Limited   \n",
       "\n",
       "                 Type Location  \n",
       "0  One-on-One meeting   Mumbai  \n",
       "1          Voice call        -  \n",
       "2  One-on-One meeting   Mumbai  "
      ]
     },
     "execution_count": 82,
     "metadata": {},
     "output_type": "execute_result"
    }
   ],
   "source": [
    "t1"
   ]
  },
  {
   "cell_type": "code",
   "execution_count": null,
   "metadata": {},
   "outputs": [],
   "source": []
  },
  {
   "cell_type": "code",
   "execution_count": null,
   "metadata": {},
   "outputs": [],
   "source": []
  }
 ],
 "metadata": {
  "kernelspec": {
   "display_name": "Python 3",
   "language": "python",
   "name": "python3"
  },
  "language_info": {
   "codemirror_mode": {
    "name": "ipython",
    "version": 3
   },
   "file_extension": ".py",
   "mimetype": "text/x-python",
   "name": "python",
   "nbconvert_exporter": "python",
   "pygments_lexer": "ipython3",
   "version": "3.8.5"
  }
 },
 "nbformat": 4,
 "nbformat_minor": 4
}
