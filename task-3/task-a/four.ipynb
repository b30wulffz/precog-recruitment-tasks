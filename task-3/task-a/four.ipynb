{
 "cells": [
  {
   "cell_type": "code",
   "execution_count": 47,
   "metadata": {},
   "outputs": [],
   "source": [
    "import tabula\n",
    "import pandas"
   ]
  },
  {
   "cell_type": "code",
   "execution_count": 48,
   "metadata": {},
   "outputs": [],
   "source": [
    "filepath=\"./Rec_Task/EICHERMOT.pdf\""
   ]
  },
  {
   "cell_type": "code",
   "execution_count": 49,
   "metadata": {},
   "outputs": [],
   "source": [
    "tables = tabula.read_pdf(filepath, pages=\"all\", stream=True, guess=False, area=[(195.06903282165527, 306.93918800354004, 275.68719795227054, 550.25825340271), (263.7816779327393, 53.94688758850098, 343.3998430633545, 298.0100479888916), (578.5338634490967, 54.690982589721685, 667.8252635955811, 549.5141584014892)])"
   ]
  },
  {
   "cell_type": "code",
   "execution_count": 50,
   "metadata": {},
   "outputs": [
    {
     "data": {
      "text/plain": [
       "3"
      ]
     },
     "execution_count": 50,
     "metadata": {},
     "output_type": "execute_result"
    }
   ],
   "source": [
    "len(tables)"
   ]
  },
  {
   "cell_type": "code",
   "execution_count": 51,
   "metadata": {},
   "outputs": [],
   "source": [
    "def is_not_nan(val):\n",
    "    return val == val\n",
    "\n",
    "def concat_rows(tbl, common_col):\n",
    "    tmp_df = pandas.DataFrame(columns=tbl.columns)\n",
    "    ind = -1\n",
    "    for index, row in tbl.iterrows():\n",
    "        if(is_not_nan(row[common_col])):\n",
    "            ind+=1\n",
    "            tmp_df.loc[ind]=['']*len(tbl.columns)\n",
    "        for col in tbl.columns:\n",
    "            tmp_df.loc[ind][col]+=\" \"+str(row[col] if is_not_nan(row[col]) else \"\")\n",
    "            tmp_df.loc[ind][col]=tmp_df.loc[ind][col].strip()\n",
    "    return tmp_df\n",
    "\n",
    "def merge_col_row(tbl, last_row):\n",
    "    col = [str(i if is_not_nan(i) and i.find(\"Unnamed:\") == -1 else \"\") for i in tbl.columns.to_list()]\n",
    "    for row_ind in range(last_row+1):\n",
    "        for col_ind in range(len(col)):\n",
    "            row_item = tbl.loc[row_ind][col_ind]\n",
    "            col[col_ind] += \" \" if len(col[col_ind]) > 0 and col[col_ind][-1]!=\"/\" and col[col_ind][-1]!=\"(\" else \"\"\n",
    "            col[col_ind] += str(row_item) if is_not_nan(row_item) else \"\"\n",
    "            col[col_ind] = col[col_ind].strip()\n",
    "    \n",
    "    tbl.columns = col\n",
    "    tbl = tbl.iloc[last_row+1:].reset_index(drop=True)\n",
    "    return tbl"
   ]
  },
  {
   "cell_type": "code",
   "execution_count": 52,
   "metadata": {
    "scrolled": true
   },
   "outputs": [],
   "source": [
    "t1 = tables[0]"
   ]
  },
  {
   "cell_type": "code",
   "execution_count": 53,
   "metadata": {},
   "outputs": [
    {
     "data": {
      "text/html": [
       "<div>\n",
       "<style scoped>\n",
       "    .dataframe tbody tr th:only-of-type {\n",
       "        vertical-align: middle;\n",
       "    }\n",
       "\n",
       "    .dataframe tbody tr th {\n",
       "        vertical-align: top;\n",
       "    }\n",
       "\n",
       "    .dataframe thead th {\n",
       "        text-align: right;\n",
       "    }\n",
       "</style>\n",
       "<table border=\"1\" class=\"dataframe\">\n",
       "  <thead>\n",
       "    <tr style=\"text-align: right;\">\n",
       "      <th></th>\n",
       "      <th>Sl.</th>\n",
       "      <th>Name</th>\n",
       "      <th>Chairman/</th>\n",
       "    </tr>\n",
       "  </thead>\n",
       "  <tbody>\n",
       "    <tr>\n",
       "      <th>0</th>\n",
       "      <td>No.</td>\n",
       "      <td>NaN</td>\n",
       "      <td>Member</td>\n",
       "    </tr>\n",
       "    <tr>\n",
       "      <th>1</th>\n",
       "      <td>1.</td>\n",
       "      <td>Mr Siddhartha Lal (Managing Director &amp;</td>\n",
       "      <td>Chairman</td>\n",
       "    </tr>\n",
       "    <tr>\n",
       "      <th>2</th>\n",
       "      <td>NaN</td>\n",
       "      <td>Chief Executive Officer)</td>\n",
       "      <td>NaN</td>\n",
       "    </tr>\n",
       "    <tr>\n",
       "      <th>3</th>\n",
       "      <td>2.</td>\n",
       "      <td>Mr S. Sandilya (Chairman and Non-Executive</td>\n",
       "      <td>Member</td>\n",
       "    </tr>\n",
       "    <tr>\n",
       "      <th>4</th>\n",
       "      <td>NaN</td>\n",
       "      <td>Independent Director)</td>\n",
       "      <td>NaN</td>\n",
       "    </tr>\n",
       "    <tr>\n",
       "      <th>5</th>\n",
       "      <td>3.</td>\n",
       "      <td>Mr Lalit Malik (Chief Financial Officer)</td>\n",
       "      <td>Member</td>\n",
       "    </tr>\n",
       "  </tbody>\n",
       "</table>\n",
       "</div>"
      ],
      "text/plain": [
       "   Sl.                                        Name Chairman/\n",
       "0  No.                                         NaN    Member\n",
       "1   1.      Mr Siddhartha Lal (Managing Director &  Chairman\n",
       "2  NaN                    Chief Executive Officer)       NaN\n",
       "3   2.  Mr S. Sandilya (Chairman and Non-Executive    Member\n",
       "4  NaN                       Independent Director)       NaN\n",
       "5   3.    Mr Lalit Malik (Chief Financial Officer)    Member"
      ]
     },
     "execution_count": 53,
     "metadata": {},
     "output_type": "execute_result"
    }
   ],
   "source": [
    "t1"
   ]
  },
  {
   "cell_type": "code",
   "execution_count": 54,
   "metadata": {},
   "outputs": [
    {
     "data": {
      "text/html": [
       "<div>\n",
       "<style scoped>\n",
       "    .dataframe tbody tr th:only-of-type {\n",
       "        vertical-align: middle;\n",
       "    }\n",
       "\n",
       "    .dataframe tbody tr th {\n",
       "        vertical-align: top;\n",
       "    }\n",
       "\n",
       "    .dataframe thead th {\n",
       "        text-align: right;\n",
       "    }\n",
       "</style>\n",
       "<table border=\"1\" class=\"dataframe\">\n",
       "  <thead>\n",
       "    <tr style=\"text-align: right;\">\n",
       "      <th></th>\n",
       "      <th>Sl.</th>\n",
       "      <th>Name</th>\n",
       "      <th>Chairman/</th>\n",
       "    </tr>\n",
       "  </thead>\n",
       "  <tbody>\n",
       "    <tr>\n",
       "      <th>0</th>\n",
       "      <td>No.</td>\n",
       "      <td>NaN</td>\n",
       "      <td>Member</td>\n",
       "    </tr>\n",
       "    <tr>\n",
       "      <th>1</th>\n",
       "      <td>1.</td>\n",
       "      <td>Mr Siddhartha Lal (Managing Director &amp;</td>\n",
       "      <td>Chairman</td>\n",
       "    </tr>\n",
       "    <tr>\n",
       "      <th>2</th>\n",
       "      <td>NaN</td>\n",
       "      <td>Chief Executive Officer)</td>\n",
       "      <td>NaN</td>\n",
       "    </tr>\n",
       "    <tr>\n",
       "      <th>3</th>\n",
       "      <td>2.</td>\n",
       "      <td>Mr S. Sandilya (Chairman and Non-Executive</td>\n",
       "      <td>Member</td>\n",
       "    </tr>\n",
       "    <tr>\n",
       "      <th>4</th>\n",
       "      <td>NaN</td>\n",
       "      <td>Independent Director)</td>\n",
       "      <td>NaN</td>\n",
       "    </tr>\n",
       "    <tr>\n",
       "      <th>5</th>\n",
       "      <td>3.</td>\n",
       "      <td>Mr Lalit Malik (Chief Financial Officer)</td>\n",
       "      <td>Member</td>\n",
       "    </tr>\n",
       "  </tbody>\n",
       "</table>\n",
       "</div>"
      ],
      "text/plain": [
       "   Sl.                                        Name Chairman/\n",
       "0  No.                                         NaN    Member\n",
       "1   1.      Mr Siddhartha Lal (Managing Director &  Chairman\n",
       "2  NaN                    Chief Executive Officer)       NaN\n",
       "3   2.  Mr S. Sandilya (Chairman and Non-Executive    Member\n",
       "4  NaN                       Independent Director)       NaN\n",
       "5   3.    Mr Lalit Malik (Chief Financial Officer)    Member"
      ]
     },
     "execution_count": 54,
     "metadata": {},
     "output_type": "execute_result"
    }
   ],
   "source": [
    "# merge first row and column\n",
    "# l1 = t1.columns[:3].to_list()\n",
    "# l2 = t1.iloc[0, 0:].to_list()\n",
    "# t1.columns = [str(i if i==i else \"\") + str((\" \" if i[-1]!=\"/\" else \"\")+j if j==j else \"\") for i, j in zip(l1, l2)]\n",
    "# t1 = t1.iloc[1:].reset_index(drop=True)\n",
    "# t1\n",
    "\n",
    "t1"
   ]
  },
  {
   "cell_type": "code",
   "execution_count": 55,
   "metadata": {},
   "outputs": [
    {
     "data": {
      "text/html": [
       "<div>\n",
       "<style scoped>\n",
       "    .dataframe tbody tr th:only-of-type {\n",
       "        vertical-align: middle;\n",
       "    }\n",
       "\n",
       "    .dataframe tbody tr th {\n",
       "        vertical-align: top;\n",
       "    }\n",
       "\n",
       "    .dataframe thead th {\n",
       "        text-align: right;\n",
       "    }\n",
       "</style>\n",
       "<table border=\"1\" class=\"dataframe\">\n",
       "  <thead>\n",
       "    <tr style=\"text-align: right;\">\n",
       "      <th></th>\n",
       "      <th>Sl. No.</th>\n",
       "      <th>Name</th>\n",
       "      <th>Chairman/Member</th>\n",
       "    </tr>\n",
       "  </thead>\n",
       "  <tbody>\n",
       "    <tr>\n",
       "      <th>0</th>\n",
       "      <td>1.</td>\n",
       "      <td>Mr Siddhartha Lal (Managing Director &amp;</td>\n",
       "      <td>Chairman</td>\n",
       "    </tr>\n",
       "    <tr>\n",
       "      <th>1</th>\n",
       "      <td>NaN</td>\n",
       "      <td>Chief Executive Officer)</td>\n",
       "      <td>NaN</td>\n",
       "    </tr>\n",
       "    <tr>\n",
       "      <th>2</th>\n",
       "      <td>2.</td>\n",
       "      <td>Mr S. Sandilya (Chairman and Non-Executive</td>\n",
       "      <td>Member</td>\n",
       "    </tr>\n",
       "    <tr>\n",
       "      <th>3</th>\n",
       "      <td>NaN</td>\n",
       "      <td>Independent Director)</td>\n",
       "      <td>NaN</td>\n",
       "    </tr>\n",
       "    <tr>\n",
       "      <th>4</th>\n",
       "      <td>3.</td>\n",
       "      <td>Mr Lalit Malik (Chief Financial Officer)</td>\n",
       "      <td>Member</td>\n",
       "    </tr>\n",
       "  </tbody>\n",
       "</table>\n",
       "</div>"
      ],
      "text/plain": [
       "  Sl. No.                                        Name Chairman/Member\n",
       "0      1.      Mr Siddhartha Lal (Managing Director &        Chairman\n",
       "1     NaN                    Chief Executive Officer)             NaN\n",
       "2      2.  Mr S. Sandilya (Chairman and Non-Executive          Member\n",
       "3     NaN                       Independent Director)             NaN\n",
       "4      3.    Mr Lalit Malik (Chief Financial Officer)          Member"
      ]
     },
     "execution_count": 55,
     "metadata": {},
     "output_type": "execute_result"
    }
   ],
   "source": [
    "# merge first row and column\n",
    "t1 = merge_col_row(t1, 0)\n",
    "t1"
   ]
  },
  {
   "cell_type": "code",
   "execution_count": 56,
   "metadata": {},
   "outputs": [
    {
     "data": {
      "text/html": [
       "<div>\n",
       "<style scoped>\n",
       "    .dataframe tbody tr th:only-of-type {\n",
       "        vertical-align: middle;\n",
       "    }\n",
       "\n",
       "    .dataframe tbody tr th {\n",
       "        vertical-align: top;\n",
       "    }\n",
       "\n",
       "    .dataframe thead th {\n",
       "        text-align: right;\n",
       "    }\n",
       "</style>\n",
       "<table border=\"1\" class=\"dataframe\">\n",
       "  <thead>\n",
       "    <tr style=\"text-align: right;\">\n",
       "      <th></th>\n",
       "      <th>Sl. No.</th>\n",
       "      <th>Name</th>\n",
       "      <th>Chairman/Member</th>\n",
       "    </tr>\n",
       "  </thead>\n",
       "  <tbody>\n",
       "    <tr>\n",
       "      <th>0</th>\n",
       "      <td>1.</td>\n",
       "      <td>Mr Siddhartha Lal (Managing Director &amp; Chief E...</td>\n",
       "      <td>Chairman</td>\n",
       "    </tr>\n",
       "    <tr>\n",
       "      <th>1</th>\n",
       "      <td>2.</td>\n",
       "      <td>Mr S. Sandilya (Chairman and Non-Executive Ind...</td>\n",
       "      <td>Member</td>\n",
       "    </tr>\n",
       "    <tr>\n",
       "      <th>2</th>\n",
       "      <td>3.</td>\n",
       "      <td>Mr Lalit Malik (Chief Financial Officer)</td>\n",
       "      <td>Member</td>\n",
       "    </tr>\n",
       "  </tbody>\n",
       "</table>\n",
       "</div>"
      ],
      "text/plain": [
       "  Sl. No.                                               Name Chairman/Member\n",
       "0      1.  Mr Siddhartha Lal (Managing Director & Chief E...        Chairman\n",
       "1      2.  Mr S. Sandilya (Chairman and Non-Executive Ind...          Member\n",
       "2      3.           Mr Lalit Malik (Chief Financial Officer)          Member"
      ]
     },
     "execution_count": 56,
     "metadata": {},
     "output_type": "execute_result"
    }
   ],
   "source": [
    "# merge rows based on a particular column\n",
    "t1 = concat_rows(t1, 'Sl. No.')\n",
    "t1"
   ]
  },
  {
   "cell_type": "code",
   "execution_count": 57,
   "metadata": {},
   "outputs": [
    {
     "data": {
      "text/plain": [
       "[{'Sl. No.': '1.',\n",
       "  'Name': 'Mr Siddhartha Lal (Managing Director & Chief Executive Officer)',\n",
       "  'Chairman/Member': 'Chairman'},\n",
       " {'Sl. No.': '2.',\n",
       "  'Name': 'Mr S. Sandilya (Chairman and Non-Executive Independent Director)',\n",
       "  'Chairman/Member': 'Member'},\n",
       " {'Sl. No.': '3.',\n",
       "  'Name': 'Mr Lalit Malik (Chief Financial Officer)',\n",
       "  'Chairman/Member': 'Member'}]"
      ]
     },
     "execution_count": 57,
     "metadata": {},
     "output_type": "execute_result"
    }
   ],
   "source": [
    "t1.to_dict('records')"
   ]
  },
  {
   "cell_type": "code",
   "execution_count": 58,
   "metadata": {},
   "outputs": [
    {
     "data": {
      "text/html": [
       "<div>\n",
       "<style scoped>\n",
       "    .dataframe tbody tr th:only-of-type {\n",
       "        vertical-align: middle;\n",
       "    }\n",
       "\n",
       "    .dataframe tbody tr th {\n",
       "        vertical-align: top;\n",
       "    }\n",
       "\n",
       "    .dataframe thead th {\n",
       "        text-align: right;\n",
       "    }\n",
       "</style>\n",
       "<table border=\"1\" class=\"dataframe\">\n",
       "  <thead>\n",
       "    <tr style=\"text-align: right;\">\n",
       "      <th></th>\n",
       "      <th>Sl.</th>\n",
       "      <th>Name</th>\n",
       "      <th>Chairman/</th>\n",
       "      <th>No. of</th>\n",
       "      <th>No. of.1</th>\n",
       "    </tr>\n",
       "  </thead>\n",
       "  <tbody>\n",
       "    <tr>\n",
       "      <th>0</th>\n",
       "      <td>No.</td>\n",
       "      <td>NaN</td>\n",
       "      <td>Member</td>\n",
       "      <td>meetings</td>\n",
       "      <td>meetings</td>\n",
       "    </tr>\n",
       "    <tr>\n",
       "      <th>1</th>\n",
       "      <td>NaN</td>\n",
       "      <td>NaN</td>\n",
       "      <td>NaN</td>\n",
       "      <td>held</td>\n",
       "      <td>attended</td>\n",
       "    </tr>\n",
       "    <tr>\n",
       "      <th>2</th>\n",
       "      <td>1.</td>\n",
       "      <td>Mr S. Sandilya</td>\n",
       "      <td>Chairman</td>\n",
       "      <td>2</td>\n",
       "      <td>2</td>\n",
       "    </tr>\n",
       "    <tr>\n",
       "      <th>3</th>\n",
       "      <td>2.</td>\n",
       "      <td>Mr Siddhartha Lal</td>\n",
       "      <td>Member</td>\n",
       "      <td>2</td>\n",
       "      <td>2</td>\n",
       "    </tr>\n",
       "    <tr>\n",
       "      <th>4</th>\n",
       "      <td>3.</td>\n",
       "      <td>Mr Prateek Jalan</td>\n",
       "      <td>Member</td>\n",
       "      <td>2</td>\n",
       "      <td>2</td>\n",
       "    </tr>\n",
       "  </tbody>\n",
       "</table>\n",
       "</div>"
      ],
      "text/plain": [
       "   Sl.               Name Chairman/    No. of  No. of.1\n",
       "0  No.                NaN    Member  meetings  meetings\n",
       "1  NaN                NaN       NaN      held  attended\n",
       "2   1.     Mr S. Sandilya  Chairman         2         2\n",
       "3   2.  Mr Siddhartha Lal    Member         2         2\n",
       "4   3.   Mr Prateek Jalan    Member         2         2"
      ]
     },
     "execution_count": 58,
     "metadata": {},
     "output_type": "execute_result"
    }
   ],
   "source": [
    "t2 = tables[1]\n",
    "t2"
   ]
  },
  {
   "cell_type": "code",
   "execution_count": 59,
   "metadata": {},
   "outputs": [],
   "source": [
    "# # merge first two rows and column\n",
    "# l1 = t2.columns[:5].to_list()\n",
    "# l2 = t2.iloc[0, 0:].to_list()\n",
    "# l3 = t2.iloc[1, 0:].to_list()\n",
    "# tmpColumns= [str(i if i==i else \"\") + str((\" \" if i[-1]!=\"/\" else \"\")+j if j==j else \"\") + str(\" \"+k if k==k else \"\") for i, j, k in zip(l1, l2, l3)]\n",
    "# # tmpColumns[4] = 'No. of meetings attended'\n",
    "# t2.columns = tmpColumns\n",
    "# t2.rename(columns={'No. of.1 meetings attended': 'No. of meetings attended'})\n",
    "# t2 = t2.iloc[2:].reset_index(drop=True)\n",
    "# t2"
   ]
  },
  {
   "cell_type": "code",
   "execution_count": 60,
   "metadata": {},
   "outputs": [
    {
     "data": {
      "text/html": [
       "<div>\n",
       "<style scoped>\n",
       "    .dataframe tbody tr th:only-of-type {\n",
       "        vertical-align: middle;\n",
       "    }\n",
       "\n",
       "    .dataframe tbody tr th {\n",
       "        vertical-align: top;\n",
       "    }\n",
       "\n",
       "    .dataframe thead th {\n",
       "        text-align: right;\n",
       "    }\n",
       "</style>\n",
       "<table border=\"1\" class=\"dataframe\">\n",
       "  <thead>\n",
       "    <tr style=\"text-align: right;\">\n",
       "      <th></th>\n",
       "      <th>Sl. No.</th>\n",
       "      <th>Name</th>\n",
       "      <th>Chairman/Member</th>\n",
       "      <th>No. of meetings held</th>\n",
       "      <th>No. of.1 meetings attended</th>\n",
       "    </tr>\n",
       "  </thead>\n",
       "  <tbody>\n",
       "    <tr>\n",
       "      <th>0</th>\n",
       "      <td>1.</td>\n",
       "      <td>Mr S. Sandilya</td>\n",
       "      <td>Chairman</td>\n",
       "      <td>2</td>\n",
       "      <td>2</td>\n",
       "    </tr>\n",
       "    <tr>\n",
       "      <th>1</th>\n",
       "      <td>2.</td>\n",
       "      <td>Mr Siddhartha Lal</td>\n",
       "      <td>Member</td>\n",
       "      <td>2</td>\n",
       "      <td>2</td>\n",
       "    </tr>\n",
       "    <tr>\n",
       "      <th>2</th>\n",
       "      <td>3.</td>\n",
       "      <td>Mr Prateek Jalan</td>\n",
       "      <td>Member</td>\n",
       "      <td>2</td>\n",
       "      <td>2</td>\n",
       "    </tr>\n",
       "  </tbody>\n",
       "</table>\n",
       "</div>"
      ],
      "text/plain": [
       "  Sl. No.               Name Chairman/Member No. of meetings held  \\\n",
       "0      1.     Mr S. Sandilya        Chairman                    2   \n",
       "1      2.  Mr Siddhartha Lal          Member                    2   \n",
       "2      3.   Mr Prateek Jalan          Member                    2   \n",
       "\n",
       "  No. of.1 meetings attended  \n",
       "0                          2  \n",
       "1                          2  \n",
       "2                          2  "
      ]
     },
     "execution_count": 60,
     "metadata": {},
     "output_type": "execute_result"
    }
   ],
   "source": [
    "# merge first two rows and column\n",
    "t2 = merge_col_row(t2, 1)\n",
    "t2"
   ]
  },
  {
   "cell_type": "code",
   "execution_count": 61,
   "metadata": {},
   "outputs": [
    {
     "data": {
      "text/plain": [
       "[{'Sl. No.': '1.',\n",
       "  'Name': 'Mr S. Sandilya',\n",
       "  'Chairman/Member': 'Chairman',\n",
       "  'No. of meetings held': '2',\n",
       "  'No. of.1 meetings attended': '2'},\n",
       " {'Sl. No.': '2.',\n",
       "  'Name': 'Mr Siddhartha Lal',\n",
       "  'Chairman/Member': 'Member',\n",
       "  'No. of meetings held': '2',\n",
       "  'No. of.1 meetings attended': '2'},\n",
       " {'Sl. No.': '3.',\n",
       "  'Name': 'Mr Prateek Jalan',\n",
       "  'Chairman/Member': 'Member',\n",
       "  'No. of meetings held': '2',\n",
       "  'No. of.1 meetings attended': '2'}]"
      ]
     },
     "execution_count": 61,
     "metadata": {},
     "output_type": "execute_result"
    }
   ],
   "source": [
    "t2.to_dict('records')"
   ]
  },
  {
   "cell_type": "code",
   "execution_count": 62,
   "metadata": {},
   "outputs": [
    {
     "data": {
      "text/html": [
       "<div>\n",
       "<style scoped>\n",
       "    .dataframe tbody tr th:only-of-type {\n",
       "        vertical-align: middle;\n",
       "    }\n",
       "\n",
       "    .dataframe tbody tr th {\n",
       "        vertical-align: top;\n",
       "    }\n",
       "\n",
       "    .dataframe thead th {\n",
       "        text-align: right;\n",
       "    }\n",
       "</style>\n",
       "<table border=\"1\" class=\"dataframe\">\n",
       "  <thead>\n",
       "    <tr style=\"text-align: right;\">\n",
       "      <th></th>\n",
       "      <th>Name of the Director</th>\n",
       "      <th>Salary</th>\n",
       "      <th>Commission</th>\n",
       "      <th>Perquisites</th>\n",
       "      <th>Unnamed: 0</th>\n",
       "      <th>Service Contract</th>\n",
       "    </tr>\n",
       "  </thead>\n",
       "  <tbody>\n",
       "    <tr>\n",
       "      <th>0</th>\n",
       "      <td>NaN</td>\n",
       "      <td>NaN</td>\n",
       "      <td>NaN</td>\n",
       "      <td>NaN</td>\n",
       "      <td>Tenure</td>\n",
       "      <td>Notice period</td>\n",
       "    </tr>\n",
       "    <tr>\n",
       "      <th>1</th>\n",
       "      <td>Mr Siddhartha Lal</td>\n",
       "      <td>3.29</td>\n",
       "      <td>4.2</td>\n",
       "      <td>1.71</td>\n",
       "      <td>5 years (Members at their</td>\n",
       "      <td>3 months' notice or salary in</td>\n",
       "    </tr>\n",
       "    <tr>\n",
       "      <th>2</th>\n",
       "      <td>Managing Director</td>\n",
       "      <td>NaN</td>\n",
       "      <td>NaN</td>\n",
       "      <td>NaN</td>\n",
       "      <td>AGM held on June 18, 2016,</td>\n",
       "      <td>lieu of notice for 3 months or for</td>\n",
       "    </tr>\n",
       "    <tr>\n",
       "      <th>3</th>\n",
       "      <td>NaN</td>\n",
       "      <td>NaN</td>\n",
       "      <td>NaN</td>\n",
       "      <td>NaN</td>\n",
       "      <td>approved re-appointment of</td>\n",
       "      <td>such period which falls short of</td>\n",
       "    </tr>\n",
       "    <tr>\n",
       "      <th>4</th>\n",
       "      <td>NaN</td>\n",
       "      <td>NaN</td>\n",
       "      <td>NaN</td>\n",
       "      <td>NaN</td>\n",
       "      <td>Mr Siddhartha Lal as Managing</td>\n",
       "      <td>3 months</td>\n",
       "    </tr>\n",
       "    <tr>\n",
       "      <th>5</th>\n",
       "      <td>NaN</td>\n",
       "      <td>NaN</td>\n",
       "      <td>NaN</td>\n",
       "      <td>NaN</td>\n",
       "      <td>Director w.e.f. May 1, 2016 up to</td>\n",
       "      <td>NaN</td>\n",
       "    </tr>\n",
       "    <tr>\n",
       "      <th>6</th>\n",
       "      <td>NaN</td>\n",
       "      <td>NaN</td>\n",
       "      <td>NaN</td>\n",
       "      <td>NaN</td>\n",
       "      <td>April 30, 2021)</td>\n",
       "      <td>NaN</td>\n",
       "    </tr>\n",
       "  </tbody>\n",
       "</table>\n",
       "</div>"
      ],
      "text/plain": [
       "  Name of the Director  Salary  Commission  Perquisites  \\\n",
       "0                  NaN     NaN         NaN          NaN   \n",
       "1    Mr Siddhartha Lal    3.29         4.2         1.71   \n",
       "2    Managing Director     NaN         NaN          NaN   \n",
       "3                  NaN     NaN         NaN          NaN   \n",
       "4                  NaN     NaN         NaN          NaN   \n",
       "5                  NaN     NaN         NaN          NaN   \n",
       "6                  NaN     NaN         NaN          NaN   \n",
       "\n",
       "                          Unnamed: 0                    Service Contract  \n",
       "0                             Tenure                       Notice period  \n",
       "1          5 years (Members at their       3 months' notice or salary in  \n",
       "2         AGM held on June 18, 2016,  lieu of notice for 3 months or for  \n",
       "3         approved re-appointment of    such period which falls short of  \n",
       "4      Mr Siddhartha Lal as Managing                            3 months  \n",
       "5  Director w.e.f. May 1, 2016 up to                                 NaN  \n",
       "6                    April 30, 2021)                                 NaN  "
      ]
     },
     "execution_count": 62,
     "metadata": {},
     "output_type": "execute_result"
    }
   ],
   "source": [
    "t3 = tables[2]\n",
    "t3"
   ]
  },
  {
   "cell_type": "code",
   "execution_count": 37,
   "metadata": {},
   "outputs": [],
   "source": [
    "# # merge first row and column\n",
    "# l1 = t3.columns[:6].to_list()\n",
    "# l2 = t3.iloc[0, 0:].to_list()\n",
    "# t3.columns = [(str(i if i==i and i.find(\"Unnamed:\") == -1 else \"\") + str(\" \"+j if j==j else \"\")).strip() for i, j in zip(l1, l2)]\n",
    "# t3 = t3.iloc[1:].reset_index(drop=True)\n",
    "# t3"
   ]
  },
  {
   "cell_type": "code",
   "execution_count": 90,
   "metadata": {},
   "outputs": [
    {
     "data": {
      "text/plain": [
       "['Name of the Director',\n",
       " 'Salary',\n",
       " 'Commission',\n",
       " 'Perquisites',\n",
       " '',\n",
       " 'Service Contract']"
      ]
     },
     "execution_count": 90,
     "metadata": {},
     "output_type": "execute_result"
    }
   ],
   "source": [
    "l1 = t3.columns[:6].to_list()\n",
    "col = [str(i if is_not_nan(i) and i.find(\"Unnamed:\") == -1 else \"\") for i in t3.columns.to_list()]\n",
    "col"
   ]
  },
  {
   "cell_type": "code",
   "execution_count": 91,
   "metadata": {},
   "outputs": [],
   "source": [
    "a = pandas.MultiIndex.from_product([['Service Contract'],\n",
    "                                     ['Tenure', 'Notice Period']])"
   ]
  },
  {
   "cell_type": "code",
   "execution_count": 92,
   "metadata": {},
   "outputs": [],
   "source": [
    "ab = col.append(a)\n",
    "ab"
   ]
  },
  {
   "cell_type": "code",
   "execution_count": 77,
   "metadata": {},
   "outputs": [
    {
     "name": "stdout",
     "output_type": "stream",
     "text": [
      "None\n"
     ]
    }
   ],
   "source": [
    "print(col)"
   ]
  },
  {
   "cell_type": "code",
   "execution_count": 38,
   "metadata": {},
   "outputs": [
    {
     "data": {
      "text/html": [
       "<div>\n",
       "<style scoped>\n",
       "    .dataframe tbody tr th:only-of-type {\n",
       "        vertical-align: middle;\n",
       "    }\n",
       "\n",
       "    .dataframe tbody tr th {\n",
       "        vertical-align: top;\n",
       "    }\n",
       "\n",
       "    .dataframe thead th {\n",
       "        text-align: right;\n",
       "    }\n",
       "</style>\n",
       "<table border=\"1\" class=\"dataframe\">\n",
       "  <thead>\n",
       "    <tr style=\"text-align: right;\">\n",
       "      <th></th>\n",
       "      <th>Name of the Director</th>\n",
       "      <th>Salary</th>\n",
       "      <th>Commission</th>\n",
       "      <th>Perquisites</th>\n",
       "      <th>Tenure</th>\n",
       "      <th>Service Contract Notice period</th>\n",
       "    </tr>\n",
       "  </thead>\n",
       "  <tbody>\n",
       "    <tr>\n",
       "      <th>0</th>\n",
       "      <td>Mr Siddhartha Lal</td>\n",
       "      <td>3.29</td>\n",
       "      <td>4.2</td>\n",
       "      <td>1.71</td>\n",
       "      <td>5 years (Members at their</td>\n",
       "      <td>3 months' notice or salary in</td>\n",
       "    </tr>\n",
       "    <tr>\n",
       "      <th>1</th>\n",
       "      <td>Managing Director</td>\n",
       "      <td>NaN</td>\n",
       "      <td>NaN</td>\n",
       "      <td>NaN</td>\n",
       "      <td>AGM held on June 18, 2016,</td>\n",
       "      <td>lieu of notice for 3 months or for</td>\n",
       "    </tr>\n",
       "    <tr>\n",
       "      <th>2</th>\n",
       "      <td>NaN</td>\n",
       "      <td>NaN</td>\n",
       "      <td>NaN</td>\n",
       "      <td>NaN</td>\n",
       "      <td>approved re-appointment of</td>\n",
       "      <td>such period which falls short of</td>\n",
       "    </tr>\n",
       "    <tr>\n",
       "      <th>3</th>\n",
       "      <td>NaN</td>\n",
       "      <td>NaN</td>\n",
       "      <td>NaN</td>\n",
       "      <td>NaN</td>\n",
       "      <td>Mr Siddhartha Lal as Managing</td>\n",
       "      <td>3 months</td>\n",
       "    </tr>\n",
       "    <tr>\n",
       "      <th>4</th>\n",
       "      <td>NaN</td>\n",
       "      <td>NaN</td>\n",
       "      <td>NaN</td>\n",
       "      <td>NaN</td>\n",
       "      <td>Director w.e.f. May 1, 2016 up to</td>\n",
       "      <td>NaN</td>\n",
       "    </tr>\n",
       "    <tr>\n",
       "      <th>5</th>\n",
       "      <td>NaN</td>\n",
       "      <td>NaN</td>\n",
       "      <td>NaN</td>\n",
       "      <td>NaN</td>\n",
       "      <td>April 30, 2021)</td>\n",
       "      <td>NaN</td>\n",
       "    </tr>\n",
       "  </tbody>\n",
       "</table>\n",
       "</div>"
      ],
      "text/plain": [
       "  Name of the Director  Salary  Commission  Perquisites  \\\n",
       "0    Mr Siddhartha Lal    3.29         4.2         1.71   \n",
       "1    Managing Director     NaN         NaN          NaN   \n",
       "2                  NaN     NaN         NaN          NaN   \n",
       "3                  NaN     NaN         NaN          NaN   \n",
       "4                  NaN     NaN         NaN          NaN   \n",
       "5                  NaN     NaN         NaN          NaN   \n",
       "\n",
       "                              Tenure      Service Contract Notice period  \n",
       "0          5 years (Members at their       3 months' notice or salary in  \n",
       "1         AGM held on June 18, 2016,  lieu of notice for 3 months or for  \n",
       "2         approved re-appointment of    such period which falls short of  \n",
       "3      Mr Siddhartha Lal as Managing                            3 months  \n",
       "4  Director w.e.f. May 1, 2016 up to                                 NaN  \n",
       "5                    April 30, 2021)                                 NaN  "
      ]
     },
     "execution_count": 38,
     "metadata": {},
     "output_type": "execute_result"
    }
   ],
   "source": [
    "# merge first row and column\n",
    "t3 = merge_col_row(t3, 0)\n",
    "t3"
   ]
  },
  {
   "cell_type": "code",
   "execution_count": 39,
   "metadata": {},
   "outputs": [
    {
     "data": {
      "text/html": [
       "<div>\n",
       "<style scoped>\n",
       "    .dataframe tbody tr th:only-of-type {\n",
       "        vertical-align: middle;\n",
       "    }\n",
       "\n",
       "    .dataframe tbody tr th {\n",
       "        vertical-align: top;\n",
       "    }\n",
       "\n",
       "    .dataframe thead th {\n",
       "        text-align: right;\n",
       "    }\n",
       "</style>\n",
       "<table border=\"1\" class=\"dataframe\">\n",
       "  <thead>\n",
       "    <tr style=\"text-align: right;\">\n",
       "      <th></th>\n",
       "      <th>Name of the Director</th>\n",
       "      <th>Salary</th>\n",
       "      <th>Commission</th>\n",
       "      <th>Perquisites</th>\n",
       "      <th>Tenure</th>\n",
       "      <th>Service Contract Notice period</th>\n",
       "    </tr>\n",
       "  </thead>\n",
       "  <tbody>\n",
       "    <tr>\n",
       "      <th>0</th>\n",
       "      <td>Mr Siddhartha Lal Managing Director</td>\n",
       "      <td>3.29</td>\n",
       "      <td>4.2</td>\n",
       "      <td>1.71</td>\n",
       "      <td>5 years (Members at their AGM held on June 18,...</td>\n",
       "      <td>3 months' notice or salary in lieu of notice f...</td>\n",
       "    </tr>\n",
       "  </tbody>\n",
       "</table>\n",
       "</div>"
      ],
      "text/plain": [
       "                  Name of the Director Salary Commission Perquisites  \\\n",
       "0  Mr Siddhartha Lal Managing Director   3.29        4.2        1.71   \n",
       "\n",
       "                                              Tenure  \\\n",
       "0  5 years (Members at their AGM held on June 18,...   \n",
       "\n",
       "                      Service Contract Notice period  \n",
       "0  3 months' notice or salary in lieu of notice f...  "
      ]
     },
     "execution_count": 39,
     "metadata": {},
     "output_type": "execute_result"
    }
   ],
   "source": [
    "t3 = concat_rows(t3, 'Salary')\n",
    "t3"
   ]
  },
  {
   "cell_type": "code",
   "execution_count": 40,
   "metadata": {},
   "outputs": [
    {
     "data": {
      "text/plain": [
       "[{'Name of the Director': 'Mr Siddhartha Lal Managing Director',\n",
       "  'Salary': '3.29',\n",
       "  'Commission': '4.2',\n",
       "  'Perquisites': '1.71',\n",
       "  'Tenure': '5 years (Members at their AGM held on June 18, 2016, approved re-appointment of Mr Siddhartha Lal as Managing Director w.e.f. May 1, 2016 up to April 30, 2021)',\n",
       "  'Service Contract Notice period': \"3 months' notice or salary in lieu of notice for 3 months or for such period which falls short of 3 months\"}]"
      ]
     },
     "execution_count": 40,
     "metadata": {},
     "output_type": "execute_result"
    }
   ],
   "source": [
    "t3.to_dict('records')"
   ]
  },
  {
   "cell_type": "code",
   "execution_count": null,
   "metadata": {},
   "outputs": [],
   "source": []
  },
  {
   "cell_type": "code",
   "execution_count": 42,
   "metadata": {},
   "outputs": [
    {
     "data": {
      "text/plain": [
       "MultiIndex([('location1', 'S1'),\n",
       "            ('location1', 'S2'),\n",
       "            ('location1', 'S3'),\n",
       "            ('location2', 'S1'),\n",
       "            ('location2', 'S2'),\n",
       "            ('location2', 'S3')],\n",
       "           names=['loc', 'S'])"
      ]
     },
     "execution_count": 42,
     "metadata": {},
     "output_type": "execute_result"
    }
   ],
   "source": []
  },
  {
   "cell_type": "code",
   "execution_count": 46,
   "metadata": {},
   "outputs": [
    {
     "data": {
      "text/plain": [
       "['Name of the Director',\n",
       " 'Salary',\n",
       " 'Commission',\n",
       " 'Perquisites',\n",
       " 'Tenure',\n",
       " 'Service Contract Notice period']"
      ]
     },
     "execution_count": 46,
     "metadata": {},
     "output_type": "execute_result"
    }
   ],
   "source": []
  },
  {
   "cell_type": "code",
   "execution_count": null,
   "metadata": {},
   "outputs": [],
   "source": []
  },
  {
   "cell_type": "code",
   "execution_count": null,
   "metadata": {},
   "outputs": [],
   "source": []
  },
  {
   "cell_type": "code",
   "execution_count": null,
   "metadata": {},
   "outputs": [],
   "source": []
  },
  {
   "cell_type": "code",
   "execution_count": null,
   "metadata": {},
   "outputs": [],
   "source": []
  },
  {
   "cell_type": "code",
   "execution_count": null,
   "metadata": {},
   "outputs": [],
   "source": []
  },
  {
   "cell_type": "code",
   "execution_count": null,
   "metadata": {},
   "outputs": [],
   "source": []
  },
  {
   "cell_type": "code",
   "execution_count": null,
   "metadata": {},
   "outputs": [],
   "source": []
  },
  {
   "cell_type": "code",
   "execution_count": null,
   "metadata": {},
   "outputs": [],
   "source": []
  }
 ],
 "metadata": {
  "kernelspec": {
   "display_name": "Python 3",
   "language": "python",
   "name": "python3"
  },
  "language_info": {
   "codemirror_mode": {
    "name": "ipython",
    "version": 3
   },
   "file_extension": ".py",
   "mimetype": "text/x-python",
   "name": "python",
   "nbconvert_exporter": "python",
   "pygments_lexer": "ipython3",
   "version": "3.8.5"
  }
 },
 "nbformat": 4,
 "nbformat_minor": 4
}
